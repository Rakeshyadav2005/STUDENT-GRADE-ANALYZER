{
 "cells": [
  {
   "cell_type": "code",
   "execution_count": 2,
   "id": "a8cfa234",
   "metadata": {},
   "outputs": [],
   "source": [
    "import pandas as pd"
   ]
  },
  {
   "cell_type": "code",
   "execution_count": 3,
   "id": "c5ed228c",
   "metadata": {},
   "outputs": [
    {
     "name": "stdout",
     "output_type": "stream",
     "text": [
      "  Student_ID First_Name Last_Name                    Email  Gender  Age  \\\n",
      "0      S1000       Omar  Williams  student0@university.com  Female   22   \n",
      "1      S1001      Maria     Brown  student1@university.com    Male   18   \n",
      "2      S1002      Ahmed     Jones  student2@university.com    Male   24   \n",
      "3      S1003       Omar  Williams  student3@university.com  Female   24   \n",
      "4      S1004       John     Smith  student4@university.com  Female   23   \n",
      "\n",
      "    Department  Attendance (%)  Midterm_Score  Final_Score  ...  \\\n",
      "0  Mathematics           97.36          40.61        59.61  ...   \n",
      "1     Business           97.71          57.27        74.00  ...   \n",
      "2  Engineering           99.52          41.84        63.85  ...   \n",
      "3  Engineering           90.38          45.65        44.44  ...   \n",
      "4           CS           59.41          53.13        61.77  ...   \n",
      "\n",
      "   Projects_Score  Total_Score  Grade  Study_Hours_per_Week  \\\n",
      "0           62.84        83.49      C                  10.3   \n",
      "1           98.23        92.29      F                  27.1   \n",
      "2           91.22        93.55      F                  12.4   \n",
      "3           55.48        51.03      A                  25.5   \n",
      "4           87.43        90.91      A                  13.3   \n",
      "\n",
      "   Extracurricular_Activities Internet_Access_at_Home  Parent_Education_Level  \\\n",
      "0                         Yes                      No                Master's   \n",
      "1                          No                      No             High School   \n",
      "2                         Yes                      No             High School   \n",
      "3                          No                     Yes             High School   \n",
      "4                         Yes                      No                Master's   \n",
      "\n",
      "  Family_Income_Level Stress_Level (1-10) Sleep_Hours_per_Night  \n",
      "0              Medium                   1                   5.9  \n",
      "1                 Low                   4                   4.3  \n",
      "2                 Low                   9                   6.1  \n",
      "3                 Low                   8                   4.9  \n",
      "4              Medium                   6                   4.5  \n",
      "\n",
      "[5 rows x 23 columns]\n"
     ]
    }
   ],
   "source": [
    "df=pd.read_csv(\"D:\\MY PROJECTS\\Student Grade Analyzer\\data\\Students_Grading_Dataset.csv\")\n",
    "print(df.head())"
   ]
  },
  {
   "cell_type": "code",
   "execution_count": null,
   "id": "142157ee",
   "metadata": {},
   "outputs": [],
   "source": []
  }
 ],
 "metadata": {
  "kernelspec": {
   "display_name": "grades_analyser",
   "language": "python",
   "name": "python3"
  },
  "language_info": {
   "codemirror_mode": {
    "name": "ipython",
    "version": 3
   },
   "file_extension": ".py",
   "mimetype": "text/x-python",
   "name": "python",
   "nbconvert_exporter": "python",
   "pygments_lexer": "ipython3",
   "version": "3.9.21"
  }
 },
 "nbformat": 4,
 "nbformat_minor": 5
}
